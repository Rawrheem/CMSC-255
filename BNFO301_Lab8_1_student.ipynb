{
  "nbformat": 4,
  "nbformat_minor": 0,
  "metadata": {
    "colab": {
      "provenance": [],
      "include_colab_link": true
    },
    "kernelspec": {
      "name": "python3",
      "display_name": "Python 3"
    },
    "language_info": {
      "name": "python"
    }
  },
  "cells": [
    {
      "cell_type": "markdown",
      "metadata": {
        "id": "view-in-github",
        "colab_type": "text"
      },
      "source": [
        "<a href=\"https://colab.research.google.com/github/Rawrheem/CMSC-255/blob/main/BNFO301_Lab8_1_student.ipynb\" target=\"_parent\"><img src=\"https://colab.research.google.com/assets/colab-badge.svg\" alt=\"Open In Colab\"/></a>"
      ]
    },
    {
      "cell_type": "markdown",
      "source": [
        "**LAB 8.1 Binding sites in genomes**\n",
        "\n",
        "Crtical regulation of biological functions occurs through binding of genomic DNA by proteins.  For example, in animals the protein HIF-1 binds many sites genome under hypoxic conditions.  The binding of HIF-1 regulates many cellular processes, including ecdysis in insects and response to heart-attack in humans.  Some protein binding sites can be complex, even discontiguous.  Many software applications have been developed to both identify novel candidate binding sites or search for known binding sites.  We will examine the latter today.  \n",
        "\n",
        "Simply finding a match to a binding site does not necessarily imply that the site is used by the protein.  For example, you may want to examine the frequency at which a search pattern occurs using simulations or search for landmarks that are associated with a 'real' binding site.\n",
        "\n",
        "This lab is builds on simple concepts you have used previously in 201 and 301, and provides you with code that you can adapt to use in group project 2.\n",
        "\n",
        "Total points 10.\n",
        "\n",
        "Problem 1.  Create a defintion to find all matches for the RNA polymerase binding site in a sequence and examine base frequences for sites 2-4 within the binding site. 4 points\n",
        "\n",
        "Problem 2.  Determine frequencies of A, T, C, and G in the sequence provided. 1 points\n",
        "\n",
        "Problem 3.  Simulate a sequence of equal length to the sequence provided, using the observed base frequencies. 4 points\n",
        "\n",
        "Problem 4.  Examine base frequences within RNA polymerase binding sites found in the simulated sequence. 1 points\n",
        "\n",
        "When completing this lab, you will be using packages numpy and re.  You will be introduced to relevent tools in numpy during the lab."
      ],
      "metadata": {
        "id": "fvx01nB1AJ-t"
      }
    },
    {
      "cell_type": "code",
      "execution_count": 74,
      "metadata": {
        "id": "68J2agBKAJE7"
      },
      "outputs": [],
      "source": [
        "#please run this box to load required packages and make the example sequence available for analysis\n",
        "import numpy as np\n",
        "import re\n",
        "ProvidedSequence = \"TATAATGTCAGTCAGTCAGTCAGTCATATAATGTCAGTCAGTCAGTCAGTCATATAATGTCAGTCAGTCAGTCAGTCATATAATGTCAGTCAGTCAGTCAGTCATATAATGTCAGTCAGTCAGTCAGTCATATAATGTCAGTCAGTCAGTCAGTCATATAATGTCAGTCAGTCAGTCAGTCATATAATGTCAGTCAGTCAGTCAGTCATATAATGTCAGTCAGTCAGTCAGTCATATAATGTCAGTCAGTCAGTCAGTCATAGGGTGTCAGTCAGTCAGTCAGTCATAGGGTGTCAGTCAGTCAGTCAGTCATACCCTGTCAGTCAGTCAGTCAGTCATACCCTGTCAGTCAGTCAGTCAGTCATAATTTGTCAGTCAGTCAGTCAGTCATAATTTGTCAGTCAGTCAGTCAGTCA\"\n"
      ]
    },
    {
      "cell_type": "markdown",
      "source": [
        "**Problem 1**\n",
        "\n",
        "The pribnow box binding box, 'TATAAT' is located ~10 base pairs upstream of the translation initiation site; this is where RNA polymerase binds. In this example, the first two and last sites in the box are conserved in the DNA sequence provided. The remaining sites in the box vary, but a biased towards 'TAA'. In this problem you will create definition that searches for the pribnow box and examins base frequences within the pribnow box. You should do this by creating a regex pattern that matches the binding motif, but allows for index 2-4 to vary between A, T, C and G"
      ],
      "metadata": {
        "id": "CDAWxXstCj2x"
      }
    },
    {
      "cell_type": "code",
      "source": [
        "########################################\n",
        "#\n",
        "# Create a definition that finds TATAAT matches within the data provided in box 1\n",
        "# Your definition should print the total number of matches and the frequency of each base at each index in the box\n",
        "#\n",
        "#########################################\n",
        "def printPribnowSummary(sequenceData):\n",
        "\n",
        "    pattern = r'TA[ATCG]{2}AT'\n",
        "    matches = re.findall(pattern, sequenceData)\n",
        "\n",
        "\n",
        "    total_occurrences = len(matches)\n",
        "\n",
        "    base_frequencies = {'T': [0] * 6, 'A': [0] * 6, 'C': [0] * 6, 'G': [0] * 6}\n",
        "\n",
        "\n",
        "    for match in matches:\n",
        "        for i, base in enumerate(match):\n",
        "\n",
        "            base_frequencies[base][i] += 1\n",
        "\n",
        "\n",
        "    print(total_occurrences)\n",
        "\n",
        "\n",
        "    for i in range(6):\n",
        "        print()\n",
        "        for base in ['A', 'T', 'C', 'G']:\n",
        "            frequency = base_frequencies[base][i] / total_occurrences if total_occurrences != 0 else 0.0\n",
        "            print(base, frequency)\n",
        "\n",
        "\n",
        "\n",
        "\n",
        "\n",
        "\n",
        "\n",
        "\n",
        "\n",
        "\n",
        "\n",
        "\n",
        "\n",
        "\n",
        "########################################\n",
        "#\n",
        "#implement your defintion using the real data provided\n",
        "#\n",
        "#########################################\n",
        "\n",
        "printPribnowSummary(ProvidedSequence)"
      ],
      "metadata": {
        "colab": {
          "base_uri": "https://localhost:8080/"
        },
        "id": "eL1dNxy1DGQ0",
        "outputId": "dc75b6ca-eb5e-4892-c4f5-6ee7fdcae377"
      },
      "execution_count": 75,
      "outputs": [
        {
          "output_type": "stream",
          "name": "stdout",
          "text": [
            "10\n",
            "\n",
            "A 0.0\n",
            "T 1.0\n",
            "C 0.0\n",
            "G 0.0\n",
            "\n",
            "A 1.0\n",
            "T 0.0\n",
            "C 0.0\n",
            "G 0.0\n",
            "\n",
            "A 0.0\n",
            "T 1.0\n",
            "C 0.0\n",
            "G 0.0\n",
            "\n",
            "A 1.0\n",
            "T 0.0\n",
            "C 0.0\n",
            "G 0.0\n",
            "\n",
            "A 1.0\n",
            "T 0.0\n",
            "C 0.0\n",
            "G 0.0\n",
            "\n",
            "A 0.0\n",
            "T 1.0\n",
            "C 0.0\n",
            "G 0.0\n"
          ]
        }
      ]
    },
    {
      "cell_type": "markdown",
      "source": [
        "**Problem 2**\n",
        "\n",
        "In the next problems we will examine base frequencies in Pribnow box index 2-4 using simulated sequences.  The first step is to create a definition to determine the base frequences in the real sequence."
      ],
      "metadata": {
        "id": "QR23djMFDxbc"
      }
    },
    {
      "cell_type": "code",
      "source": [
        "########################################\n",
        "#\n",
        "# Create a definition that returns the base frequencies from the sequence data given in box 1 as a dictionary\n",
        "# restrict your diction to include only A, T, C, and G (that is, ignore abiguity base codes)\n",
        "#\n",
        "#########################################\n",
        "def calculateFraction(genome):\n",
        "\n",
        "\n",
        "    base_frequencies = {'A': 0, 'T': 0, 'C': 0, 'G': 0}\n",
        "\n",
        "\n",
        "    for base in genome:\n",
        "        if base in base_frequencies:\n",
        "            base_frequencies[base] += 1\n",
        "\n",
        "\n",
        "    total_length = len(genome)\n",
        "\n",
        "    # Calculate frequencies\n",
        "    for base in base_frequencies:\n",
        "        base_frequencies[base] /= total_length\n",
        "\n",
        "    return base_frequencies\n",
        "\n",
        "\n",
        "\n",
        "\n",
        "\n",
        "\n",
        "\n",
        "\n",
        "########################################\n",
        "#\n",
        "# test your definition using the \"ProvidedSequence\"\n",
        "#\n",
        "#########################################\n",
        "baseContent = calculateFraction(ProvidedSequence)\n",
        "print(baseContent)"
      ],
      "metadata": {
        "colab": {
          "base_uri": "https://localhost:8080/"
        },
        "id": "nXRKivczErZt",
        "outputId": "32d6179e-35ea-45eb-fab1-efd3eed9b857"
      },
      "execution_count": 76,
      "outputs": [
        {
          "output_type": "stream",
          "name": "stdout",
          "text": [
            "{'A': 0.28365384615384615, 'T': 0.30288461538461536, 'C': 0.20673076923076922, 'G': 0.20673076923076922}\n"
          ]
        }
      ]
    },
    {
      "cell_type": "markdown",
      "source": [
        "**Problem 3**\n",
        "\n",
        "Now let's simulate a sequence of equal length to the sequence provided, with similar base frquencies.  You will need to use functions available in the numpy package."
      ],
      "metadata": {
        "id": "JwyTbxkSE9vh"
      }
    },
    {
      "cell_type": "code",
      "source": [
        "########################################\n",
        "#\n",
        "# create a definition to simulate sequence data with base frequencies similar to the observed data\n",
        "# your defintion should return the simulated sequence\n",
        "#\n",
        "#########################################\n",
        "def simulateGenome(genome):\n",
        "\n",
        "\n",
        "    base_content = calculateFraction(genome)\n",
        "\n",
        "\n",
        "    length = len(genome)\n",
        "\n",
        "    new_genome = np.random.choice(list(base_content.keys()), size=length, p=list(base_content.values()))\n",
        "\n",
        "    simulated_sequence = ''.join(new_genome)\n",
        "\n",
        "    return simulated_sequence\n",
        "\n",
        "\n",
        "\n",
        "\n",
        "\n",
        "\n",
        "\n",
        "\n",
        "\n",
        "########################################\n",
        "#\n",
        "# test your definition and calculate base frequencies from the simulated data\n",
        "# note: the base fequeces may differ from the real data\n",
        "#\n",
        "#########################################\n",
        "newGenome = simulateGenome(ProvidedSequence)\n",
        "SimGenomebaseContent = calculateFraction(newGenome)\n",
        "print (SimGenomebaseContent)"
      ],
      "metadata": {
        "colab": {
          "base_uri": "https://localhost:8080/"
        },
        "id": "yaCPL0tqFPuj",
        "outputId": "b8a8ff93-95d5-486c-aede-f76a3e0fd815"
      },
      "execution_count": 77,
      "outputs": [
        {
          "output_type": "stream",
          "name": "stdout",
          "text": [
            "{'A': 0.2860576923076923, 'T': 0.28125, 'C': 0.22355769230769232, 'G': 0.2091346153846154}\n"
          ]
        }
      ]
    },
    {
      "cell_type": "markdown",
      "source": [
        "**Problem 4**\n",
        "\n",
        "Finally, use your definitions from problems 1 and 3 to examine the pribnow box binding box in your simulated data."
      ],
      "metadata": {
        "id": "QHbUl4DQGcDf"
      }
    },
    {
      "cell_type": "code",
      "source": [
        "#############################################\n",
        "#\n",
        "# no need to create any new definitions here, simply simulate a seqeunce and calculate base ferquences for each index in the binding box\n",
        "#\n",
        "#############################################\n",
        "# Simulate a genome sequence\n",
        "newGenome = simulateGenome(ProvidedSequence)\n",
        "\n",
        "box_sequence = newGenome[:6]\n",
        "\n",
        "box_base_content = calculateFraction(box_sequence)\n",
        "\n",
        "for i, base_freq in enumerate(box_base_content.items()):\n",
        "    print(\"Index\", i+1, \":\", base_freq)\n",
        "\n",
        "\n",
        "\n",
        "\n",
        "\n"
      ],
      "metadata": {
        "colab": {
          "base_uri": "https://localhost:8080/"
        },
        "id": "J-fTuJXNG4h8",
        "outputId": "8aecdbc2-b33d-4a5c-df82-e931bcfcab68"
      },
      "execution_count": 83,
      "outputs": [
        {
          "output_type": "stream",
          "name": "stdout",
          "text": [
            "Index 1 : ('A', 0.16666666666666666)\n",
            "Index 2 : ('T', 0.3333333333333333)\n",
            "Index 3 : ('C', 0.3333333333333333)\n",
            "Index 4 : ('G', 0.16666666666666666)\n"
          ]
        }
      ]
    },
    {
      "cell_type": "markdown",
      "source": [
        "Next week will expand on these concepts and you will also have time to ask questions about group project 2.  \n",
        "\n",
        "Have a good weekend!"
      ],
      "metadata": {
        "id": "Nr9nlOt7KAiL"
      }
    }
  ]
}